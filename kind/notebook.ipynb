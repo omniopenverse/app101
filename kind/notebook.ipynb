{
 "cells": [
  {
   "cell_type": "markdown",
   "id": "e9285a4b",
   "metadata": {},
   "source": [
    "## Create kubenertes cluster using kind"
   ]
  },
  {
   "cell_type": "code",
   "execution_count": null,
   "id": "52cfca0f",
   "metadata": {
    "vscode": {
     "languageId": "shellscript"
    }
   },
   "outputs": [],
   "source": [
    "sudo kind create cluster --config /home/adminstack/app101/kind/kind-config.yaml --kubeconfig ~/.kube/config"
   ]
  },
  {
   "cell_type": "markdown",
   "id": "a87cfc20",
   "metadata": {},
   "source": [
    "## Fix access permission"
   ]
  },
  {
   "cell_type": "code",
   "execution_count": 12,
   "id": "56132bcf",
   "metadata": {
    "vscode": {
     "languageId": "shellscript"
    }
   },
   "outputs": [],
   "source": [
    "sudo chown adminstack:adminstack ~/.kube/config"
   ]
  },
  {
   "cell_type": "markdown",
   "id": "ab67fbaa",
   "metadata": {},
   "source": [
    "## Fix the network issue on the kubeconfig file"
   ]
  },
  {
   "cell_type": "code",
   "execution_count": 13,
   "id": "3208a23d",
   "metadata": {
    "vscode": {
     "languageId": "shellscript"
    }
   },
   "outputs": [],
   "source": [
    "sed -i \"s|127.0.0.1:.*|kind-control-plane:6443|g\" ~/.kube/config"
   ]
  },
  {
   "cell_type": "markdown",
   "id": "a2cbcc4d",
   "metadata": {},
   "source": [
    "## Add adminstack container to kind network"
   ]
  },
  {
   "cell_type": "code",
   "execution_count": null,
   "id": "9ea54dde",
   "metadata": {
    "vscode": {
     "languageId": "shellscript"
    }
   },
   "outputs": [],
   "source": [
    "sudo docker network connect kind adminstack"
   ]
  },
  {
   "cell_type": "markdown",
   "id": "cce34cb4",
   "metadata": {},
   "source": [
    "## Access the cluster"
   ]
  },
  {
   "cell_type": "code",
   "execution_count": null,
   "id": "3dd8ffee",
   "metadata": {
    "vscode": {
     "languageId": "shellscript"
    }
   },
   "outputs": [],
   "source": [
    "kubectl get pods -A"
   ]
  },
  {
   "cell_type": "markdown",
   "id": "86900e5e",
   "metadata": {},
   "source": [
    "## Delete the cluster"
   ]
  },
  {
   "cell_type": "code",
   "execution_count": null,
   "id": "d4f6d711",
   "metadata": {
    "vscode": {
     "languageId": "shellscript"
    }
   },
   "outputs": [],
   "source": [
    "sudo kind delete cluster --name kind"
   ]
  }
 ],
 "metadata": {
  "kernelspec": {
   "display_name": "Bash",
   "language": "bash",
   "name": "bash"
  },
  "language_info": {
   "codemirror_mode": "shell",
   "file_extension": ".sh",
   "mimetype": "text/x-sh",
   "name": "bash"
  }
 },
 "nbformat": 4,
 "nbformat_minor": 5
}
